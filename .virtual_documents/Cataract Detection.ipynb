import tensorflow as tf
from tensorflow import keras
from tensorflow.keras import layers
from tensorflow.python.keras.layers import Dense, Flatten
from tensorflow.keras.optimizers import Adam
from keras.callbacks import EarlyStopping, ModelCheckpoint
from roboflow import Roboflow
import cv2
import math
import numpy as np
import matplotlib.pyplot as plt
import random
import os


cataract = os.path.join(
    "Datasets/raw dataset/Cataract",
    random.choice(os.listdir("Datasets/raw dataset/Cataract")))
normal = os.path.join("Datasets/raw dataset/Normal",
                      random.choice(os.listdir("Datasets/raw dataset/Normal")))
fig, ax = plt.subplots(1, 2)

ax[0].imshow(cv2.cvtColor(cv2.imread(cataract), cv2.COLOR_BGR2RGB))
ax[1].imshow(cv2.cvtColor(cv2.imread(normal), cv2.COLOR_BGR2RGB))


rf = Roboflow(api_key="dHg9mKRRDSCBTlbaEl8w")
project_eye = rf.workspace().project("eyes-dpurk")
model_eye = project_eye.version(2).model
project_iris = rf.workspace().project("iris_120_set")
model_iris = project_iris.version(7).model


def extract_eye(img):
    eye_predictions = model_eye.predict(img, confidence=20,
                                        overlap=40).json()['predictions']
    eyes = []
    if eye_predictions != []:
        for prediction in eye_predictions:
            if prediction["class"] == "Open Eyes":
                X, Y, W, H = int(prediction['x']), int(prediction['y']), int(
                    prediction['width']), int(prediction['height'])

                H = int(H / 2)
                W = int(W / 2)

                cropped_image = img[Y - H:Y + H, X - W:X + W]
                eyes.append(cropped_image)

    return eyes


def extract_iris(img):
    predictions_iris = model_iris.predict(img, confidence=40,
                                          overlap=40).json()['predictions']
    iris = None
    if predictions_iris != []:
        for prediction in predictions_iris:
            if prediction["class"] == "0":
                flag = False
                X, Y, W, H = int(prediction['x']), int(prediction['y']), int(
                    prediction['width']), int(prediction['height'])

                H = int(H / 2)
                W = int(W / 2)

                iris = img[Y - H:Y + H, X - W:X + W]

    return iris


fig, ax = plt.subplots(1, 3)
img = cv2.imread(cataract)
img = cv2.cvtColor(img, cv2.COLOR_BGR2RGB)
ax[0].imshow(img)
eye = extract_eye(img)[0]
ax[1].imshow(eye)
iris = extract_iris(eye)
ax[2].imshow(iris)


def process_cataract():
    input_directory = "Datasets/raw dataset/Cataract/"
    output_directory = "Datasets/train/Cataract_iris/"
    for filename in os.listdir(input_directory):
        img = os.path.join(input_directory, filename)
        output_filename = f"{count}.jpg"
        count += 1
        # checking if it is a file
        if os.path.isfile(img):
            img = cv2.imread(img)
            try:
                eyes = extract_eye(img)
            except:
                cv2.imwrite(os.path.join(output_directory, output_filename),
                            img)
                continue

            for eye in eyes:
                try:
                    iris = extract_iris(eye)
                    cv2.imwrite(os.path.join(output_directory, output_filename),
                                iris)
                except:
                    cv2.imwrite(os.path.join(output_directory, output_filename),
                                eye)
                    continue
    print("Cataract Eye Image Pre-Processing Complete!")


def process_normal():
    input_directory = "Datasets/raw dataset/Normal/"
    output_directory = "Datasets/train/Normal_iris/"
    count = 0

    for filename in os.listdir(input_directory):
        img = os.path.join(input_directory, filename)
        output_filename = f"{count}.jpg"
        count += 1
        # checking if it is a file
        if os.path.isfile(img):
            img = cv2.imread(img)
            try:
                eyes = extract_eye(img)
            except:
                continue

            for eye in eyes:
                try:
                    iris = extract_iris(eye)
                    cv2.imwrite(os.path.join(output_directory, output_filename),
                                iris)
                except:
                    continue
    print("Normal Eye Image Pre-Processing Complete!")


height, width = 120, 120
training_batch_size = 32


train_set = tf.keras.preprocessing.image_dataset_from_directory(
    "Datasets/train",
    validation_split=0.2,
    subset="training",
    seed=21,
    image_size=(height, width),
    batch_size=training_batch_size)


image_cat = train_set.class_names
print(image_cat)


validation_set = tf.keras.preprocessing.image_dataset_from_directory(
    "Datasets/train",
    validation_split=0.2,
    subset="validation",
    seed=21,
    image_size=(height, width),
    batch_size=training_batch_size)


dnn_model = keras.Sequential()


imported_model = tf.keras.applications.ResNet50(include_top=False,
                                                input_shape=(height, width, 3),
                                                pooling='avg',
                                                classes=2,
                                                weights='imagenet')
for layer in imported_model.layers:
    layer.trainable = False


dnn_model.add(imported_model)
# dnn_model.add(Dense(1024, activation="relu"))

# dnn_model.add(Dense(512, activation="relu"))
dnn_model.add(Dense(128, activation="relu"))
dnn_model.add(Dense(64, activation="relu"))
dnn_model.add(Dense(1, activation='sigmoid'))


dnn_model.summary()


dnn_model.compile(optimizer=Adam(learning_rate=0.001),
                  loss='binary_crossentropy',
                  metrics=['accuracy'])


history = dnn_model.fit(train_set, validation_data=validation_set, epochs=10)


def predict(img, model):
    img = cv2.imread(img)
    img = cv2.cvtColor(img, cv2.COLOR_BGR2RGB)
    plt.imshow(img)
    eyes = extract_eye(img)
    for eye in eyes:
        fig, ax = plt.subplots(1, 2)
        ax[0].imshow(eye)
        iris = extract_iris(eye)
        ax[1].imshow(iris)
        image_resized = cv2.resize(iris, (height, width))
        image = np.expand_dims(image_resized, axis=0)
        model_pred = model.predict(image)[0][0]
        if model_pred < 0.5:
            print(
                "Sorry to tell you that your eye might affected with Cataract !"
            )
            fig.suptitle(
                'Sorry to tell you that your eye might affected with Cataract !',
                fontsize=12)
        else:
            print("Hurrey! You Have Normal Eye.")
            fig.suptitle('Hurrey! You Have Normal Eye.', fontsize=12)

        print(model_pred)


resnet_test = keras.models.load_model(os.path.join("Model/Resnet/", "Best"))


testing = "Datasets/Unseen/"
img = os.path.join(testing, random.choice(os.listdir(testing)))
predict("Datasets/Unseen/7.jpeg", resnet_test)


# dnn_model.save(os.path.join("Model/Resnet/", "Best"))


# summarize history for accuracy
plt.plot(history.history['accuracy'])
plt.plot(history.history['val_accuracy'])
plt.title('model accuracy')
plt.ylabel('accuracy')
plt.xlabel('epoch')
plt.legend(['train', 'test'], loc='upper left')
plt.show()
# summarize history for loss
plt.plot(history.history['loss'])
plt.plot(history.history['val_loss'])
plt.title('model loss')
plt.ylabel('loss')
plt.xlabel('epoch')
plt.legend(['train', 'test'], loc='upper left')
plt.show()


Efficientnet_model_directory = "Model/Efficientnet/"


efficient_net7 = tf.keras.applications.EfficientNetB7(include_top=False,
                                                      input_shape=(height,
                                                                   width, 3),
                                                      pooling='avg',
                                                      classes=2,
                                                      weights='imagenet')

efficientnet = keras.Sequential()
efficientnet.add(efficient_net7)
efficientnet.add(Dense(units=128, activation='relu'))
efficientnet.add(Dense(units=64, activation='relu'))
efficientnet.add(Dense(units=32, activation='relu'))
efficientnet.add(Dense(units=1, activation='sigmoid'))
efficientnet.summary()


efficientnet.compile(optimizer=Adam(learning_rate=0.001),
                     loss='binary_crossentropy',
                     metrics=['accuracy'])


history = efficientnet.fit(train_set, validation_data=validation_set, epochs=10)


testing = "Datasets/Unseen/"
img = os.path.join(testing, random.choice(os.listdir(testing)))
predict("Datasets/Unseen/17.jpeg", efficientnet)


efficientnet.save(os.path.join(Efficientnet_model_directory, "Best"))


resnet_test = keras.models.load_model(os.path.join("Model/Resnet/", "Best"))


efficientnet_test = keras.models.load_model(
    os.path.join("Model/Efficientnet/", "Best"))


predict("Datasets/Unseen/12.jpeg", resnet_test)


predict("Datasets/Unseen/8.jpeg", efficientnet_test)


resnet_test = keras.models.load_model(os.path.join("Model/Resnet/", "Best"))


predictions = np.array([])
labels = np.array([])
for x, y in validation_set:

    predictions = np.concatenate(
        [predictions, resnet_test.predict(x).flatten()])
    labels = np.concatenate([labels, y.numpy()])
from sklearn import metrics

confusion_matrix = metrics.confusion_matrix(labels, predictions.round())
cm_display = metrics.ConfusionMatrixDisplay(
    confusion_matrix=confusion_matrix, display_labels=["Cataract", "Normal"])
cm_display.plot()
plt.show()
# tf.math.confusion_matrix(labels=labels, predictions=predictions.round()).numpy()


efficientnet_test = keras.models.load_model(
    os.path.join("Model/Efficientnet/", "Best"))


predictions = np.array([])
labels = np.array([])
for x, y in validation_set:

    predictions = np.concatenate(
        [predictions, efficientnet_test.predict(x).flatten()])
    labels = np.concatenate([labels, y.numpy()])
from sklearn import metrics

confusion_matrix = metrics.confusion_matrix(labels, predictions.round())
cm_display = metrics.ConfusionMatrixDisplay(
    confusion_matrix=confusion_matrix, display_labels=["Cataract", "Normal"])
cm_display.plot()
plt.show()



